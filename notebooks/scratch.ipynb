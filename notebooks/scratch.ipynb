{
 "cells": [
  {
   "cell_type": "code",
   "execution_count": null,
   "metadata": {},
   "outputs": [],
   "source": [
    "import fryer.data"
   ]
  },
  {
   "cell_type": "code",
   "execution_count": null,
   "metadata": {},
   "outputs": [],
   "source": [
    "dfs = fryer.data.uk_gov_dept_for_transport_road_accidents.read()"
   ]
  },
  {
   "cell_type": "code",
   "execution_count": null,
   "metadata": {},
   "outputs": [],
   "source": [
    "print(type(dfs), len(dfs), dfs.keys())"
   ]
  },
  {
   "cell_type": "code",
   "execution_count": null,
   "metadata": {},
   "outputs": [],
   "source": [
    "dfs[\"collision\"].head()"
   ]
  },
  {
   "cell_type": "code",
   "execution_count": null,
   "metadata": {},
   "outputs": [],
   "source": [
    "dfs[\"collision\"][\"police_force\"]"
   ]
  },
  {
   "cell_type": "code",
   "execution_count": null,
   "metadata": {},
   "outputs": [],
   "source": [
    "dfs[\"vehicle\"][\"escooter_flag\"].value_counts()"
   ]
  },
  {
   "cell_type": "code",
   "execution_count": null,
   "metadata": {},
   "outputs": [],
   "source": [
    "import polars as pl\n",
    "\n",
    "df = pl.DataFrame(\n",
    "    {\n",
    "        \"police_force\": [\n",
    "            \"Metropolitan Police\"\n",
    "            \"Cumbria\"\n",
    "            \"Lancashire\"\n",
    "            \"Merseyside\"\n",
    "            \"Greater Manchester\"\n",
    "            \"Cheshire\"\n",
    "            \"Northumbria\"\n",
    "            \"Durham\"\n",
    "            \"North Yorkshire\"\n",
    "            \"West Yorkshire\"\n",
    "            \"South Yorkshire\"\n",
    "            \"Humberside\"\n",
    "            \"Cleveland\"\n",
    "            \"West Midlands\"\n",
    "            \"Staffordshire\"\n",
    "            \"West Mercia\"\n",
    "            \"Warwickshire\"\n",
    "            \"Derbyshire\"\n",
    "            \"Nottinghamshire\"\n",
    "            \"Lincolnshire\"\n",
    "            \"Leicestershire\"\n",
    "            \"Northamptonshire\"\n",
    "            \"Cambridgeshire\"\n",
    "            \"Norfolk\"\n",
    "            \"Suffolk\"\n",
    "            \"Bedfordshire\"\n",
    "            \"Hertfordshire\"\n",
    "            \"Essex\"\n",
    "            \"Thames Valley\"\n",
    "            \"Hampshire\"\n",
    "            \"Surrey\"\n",
    "            \"Kent\"\n",
    "            \"Sussex\"\n",
    "            \"City of London\"\n",
    "            \"Devon and Cornwall\"\n",
    "            \"Avon and Somerset\"\n",
    "            \"Gloucestershire\"\n",
    "            \"Wiltshire\"\n",
    "            \"Dorset\"\n",
    "            \"North Wales\"\n",
    "            \"Gwent\"\n",
    "            \"South Wales\"\n",
    "            \"Dyfed-Powys\"\n",
    "            \"Northern\"\n",
    "            \"Grampian\"\n",
    "            \"Tayside\"\n",
    "            \"Fife\"\n",
    "            \"Lothian and Borders\"\n",
    "            \"Central\"\n",
    "            \"Strathclyde\"\n",
    "            \"Dumfries and Galloway\"\n",
    "            \"Police Scotland\"\n",
    "        ]\n",
    "    }\n",
    ")\n",
    "\n",
    "df = df.with_columns(\n",
    "    pl.col(\"police_force\").cast(pl.Enum(list(df[\"police_force\"].unique())))\n",
    ")\n",
    "\n",
    "df.write_parquet(\"police_force.parquet\")\n",
    "\n",
    "df = pl.read_parquet(\"police_force.parquet\", schema={\"police_force\": pl.Enum})"
   ]
  },
  {
   "cell_type": "code",
   "execution_count": null,
   "metadata": {},
   "outputs": [],
   "source": []
  }
 ],
 "metadata": {
  "language_info": {
   "name": "python",
   "pygments_lexer": "ipython3"
  }
 },
 "nbformat": 4,
 "nbformat_minor": 2
}
