{
 "cells": [
  {
   "cell_type": "code",
   "execution_count": null,
   "metadata": {},
   "outputs": [],
   "source": [
    "import folium\n",
    "import polars as pl\n",
    "import geopandas as gpd\n",
    "\n",
    "import fryer.data\n",
    "\n",
    "pl.Config.set_tbl_rows(100)"
   ]
  },
  {
   "cell_type": "markdown",
   "metadata": {},
   "source": [
    "# Road Accidents from 1979 to Latest Published Year\n",
    "\n",
    "### UK Gov - Dept for Transport\n",
    "\n",
    "[Source](https://www.data.gov.uk/dataset/cb7ae6f0-4be6-4935-9277-47e5ce24a11f/road-safety-data)\n",
    "\n",
    "[Guidance](https://www.gov.uk/guidance/road-accident-and-safety-statistics-guidance)\n",
    "\n",
    "**Load a dictionary of road accident data**\n",
    "\n",
    "keys are the dataset names below and values are the corresponding polars dataframes\n",
    "\n",
    "- collision\n",
    "- caualties\n",
    "- vehicles\n",
    "\n",
    "Casualties and vehicles can be joined via a zero or many to one relationship with the collision dataframe using the `accident_index` column\n",
    "\n",
    "Additionally, `vehicle_reference` in the casualties and vehicles table will relate a casualty to a particular vehicle involved in the matching accident\n",
    "\n",
    "[Local Authority borders](https://geoportal.statistics.gov.uk/search?q=BDY_LAD%202024&sort=Title%7Ctitle%7Casc)"
   ]
  },
  {
   "cell_type": "code",
   "execution_count": null,
   "metadata": {},
   "outputs": [],
   "source": [
    "dfs = fryer.data.uk_gov_dept_for_transport_road_accidents.read()\n",
    "gdf = fryer.data.ons_local_authority_district_boundaries.read()\n",
    "collision, casualty, vehicle = dfs.values()\n",
    "\n",
    "for name, df in dfs.items():\n",
    "    print(name, \"\\nrows:\", \"{:,}\".format(df.shape[0]), \"\\ncolumns:\", df.shape[1], \"\\n\")"
   ]
  },
  {
   "cell_type": "code",
   "execution_count": null,
   "metadata": {},
   "outputs": [],
   "source": [
    "collision[\"local_authority_ons_district\"].null_count()"
   ]
  },
  {
   "cell_type": "code",
   "execution_count": null,
   "metadata": {},
   "outputs": [],
   "source": [
    "collision = collision.filter(pl.col(\"local_authority_ons_district\").is_not_null())\n",
    "\n",
    "collisions_count = collision.group_by(\"local_authority_ons_district\").agg(\n",
    "    pl.col(\"accident_index\").count().alias(\"accidents\")\n",
    ")\n",
    "\n",
    "gdf2 = gdf.merge(\n",
    "    collisions_count.to_pandas(),\n",
    "    left_on=\"LAD24CD\",\n",
    "    right_on=\"local_authority_ons_district\",\n",
    "    how=\"left\",\n",
    ")\n",
    "\n",
    "gdf2[\"geometry\"] = gpd.GeoSeries(gdf2[\"geometry\"]).simplify(tolerance=0.001)\n",
    "\n",
    "\n",
    "m = folium.Map()\n",
    "cp = folium.Choropleth(\n",
    "    geo_data=gdf2,\n",
    "    name=\"LA_Test\",\n",
    "    data=gdf2,\n",
    "    columns=[\"LAD24CD\", \"accidents\"],\n",
    "    key_on=\"feature.properties.LAD24CD\",\n",
    "    fill_color=\"Reds\",\n",
    "    bins=8,\n",
    "    fill_opacity=0.7,\n",
    "    line_opacity=0.5,\n",
    "    smooth_factor=0,\n",
    "    # use_jenks=True,\n",
    "    overlay=True,\n",
    "    highlight=True,\n",
    ").add_to(m)\n",
    "\n",
    "folium.GeoJsonTooltip([\"LAD24CD\", \"accidents\"]).add_to(cp.geojson)\n",
    "\n",
    "folium.LayerControl().add_to(m)"
   ]
  },
  {
   "cell_type": "code",
   "execution_count": null,
   "metadata": {},
   "outputs": [],
   "source": [
    "m"
   ]
  },
  {
   "cell_type": "code",
   "execution_count": null,
   "metadata": {},
   "outputs": [],
   "source": [
    "raw_df = pl.read_csv(\n",
    "    \"/media/linkside/hdd/scratch/eel/uk_gov_dept_for_transport_road_accidents_raw/collision-1979-latest-published-year.csv\",\n",
    "    ignore_errors=True,\n",
    ")"
   ]
  },
  {
   "cell_type": "code",
   "execution_count": null,
   "metadata": {},
   "outputs": [],
   "source": [
    "# px.scatter(\n",
    "#     collision.filter(\n",
    "#         pl.col('accident_year') == 2023,\n",
    "#         pl.col('accident_severity') != 'Slight',\n",
    "#     ),\n",
    "#     x=\"longitude\",\n",
    "#     y=\"latitude\",\n",
    "#     color=\"accident_severity\",\n",
    "#     hover_data=[\"number_of_vehicles\", \"number_of_casualties\"],\n",
    "#     height=800,\n",
    "# )"
   ]
  },
  {
   "cell_type": "code",
   "execution_count": null,
   "metadata": {},
   "outputs": [],
   "source": [
    "# px.histogram(vehicle, x=\"age_of_driver\", title='Age of Driver Distribution')"
   ]
  },
  {
   "cell_type": "code",
   "execution_count": null,
   "metadata": {},
   "outputs": [],
   "source": [
    "# year = 2023\n",
    "# local_authority = \"Croydon\"\n",
    "\n",
    "# df = collision.filter(\n",
    "#     pl.col('accident_year') == year,\n",
    "#     pl.col('local_authority') == local_authority,\n",
    "#     pl.col('accident_severity') != 'Slight'\n",
    "# )\n",
    "\n",
    "# # instantiate a feature group for the incidents in the dataframe\n",
    "# road_accidents = folium.map.FeatureGroup()\n",
    "\n",
    "# # loop through the 100 crimes and add each to the incidents feature group\n",
    "# for lat, lng, in zip(df[\"latitude\"], df[\"longitude\"]):\n",
    "#     road_accidents.add_child(\n",
    "#         folium.features.CircleMarker(\n",
    "#             [lat, lng],\n",
    "#             radius=5, # define how big you want the circle markers to be\n",
    "#             color='yellow',\n",
    "#             fill=True,\n",
    "#             fill_color='blue',\n",
    "#             fill_opacity=0.6\n",
    "#         )\n",
    "#     )\n",
    "\n",
    "# # add pop-up text to each marker on the map\n",
    "# latitudes = list(df[\"latitude\"])\n",
    "# longitudes = list(df[\"longitude\"])\n",
    "# labels = list(df[\"severity\"])\n",
    "\n",
    "# collision_map = folium.Map(location=[latitudes[0], longitudes[0]], zoom_start=12) #, tiles='Stamen Terrain')\n",
    "\n",
    "# for lat, lng, label in zip(latitudes, longitudes, labels):\n",
    "#     folium.Marker([lat, lng], popup=label).add_to(collision_map)\n",
    "\n",
    "# # add incidents to map\n",
    "# collision_map.add_child(road_accidents)"
   ]
  },
  {
   "cell_type": "code",
   "execution_count": null,
   "metadata": {},
   "outputs": [],
   "source": [
    "df.head()"
   ]
  },
  {
   "cell_type": "code",
   "execution_count": null,
   "metadata": {},
   "outputs": [],
   "source": []
  }
 ],
 "metadata": {
  "language_info": {
   "name": "python",
   "pygments_lexer": "ipython3"
  }
 },
 "nbformat": 4,
 "nbformat_minor": 2
}
