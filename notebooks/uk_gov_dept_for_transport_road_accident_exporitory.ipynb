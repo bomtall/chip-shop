{
 "cells": [
  {
   "cell_type": "code",
   "execution_count": null,
   "metadata": {},
   "outputs": [],
   "source": [
    "import plotly.express as px\n",
    "import polars as pl\n",
    "\n",
    "from fryer import all as fryer\n",
    "\n",
    "pl.Config.set_tbl_rows(100)"
   ]
  },
  {
   "cell_type": "markdown",
   "metadata": {},
   "source": [
    "# Road Accidents from 1979 to Latest Published Year\n",
    "\n",
    "### UK Gov - Dept for Transport\n",
    "\n",
    "[Source](https://www.data.gov.uk/dataset/cb7ae6f0-4be6-4935-9277-47e5ce24a11f/road-safety-data)\n",
    "\n",
    "[Guidance](https://www.gov.uk/guidance/road-accident-and-safety-statistics-guidance)\n",
    "\n",
    "**Load a dictionary of road accident data**\n",
    "\n",
    "keys are the dataset names below and values are the corresponding polars dataframes\n",
    "\n",
    "- collision\n",
    "- caualties\n",
    "- vehicles\n",
    "\n",
    "Casualties and vehicles can be joined via a zero or many to one relationship with the collision dataframe using the `accident_index` column\n",
    "\n",
    "Additionally, `vehicle_reference` in the casualties and vehicles table will relate a casualty to a particular vehicle involved in the matching accident\n",
    "\n",
    "[Local Authority borders](https://geoportal.statistics.gov.uk/search?q=BDY_LAD%202024&sort=Title%7Ctitle%7Casc)"
   ]
  },
  {
   "cell_type": "code",
   "execution_count": null,
   "metadata": {},
   "outputs": [],
   "source": [
    "dfs = fryer.data.uk_gov_dept_for_transport_road_accident.read()\n",
    "gdf = fryer.data.ons_local_authority_district_boundaries.read()\n",
    "collision, casualty, vehicle = dfs.values()\n",
    "\n",
    "for name, df in dfs.items():\n",
    "    print(name, \"\\nrows:\", f\"{df.shape[0]:,}\", \"\\ncolumns:\", df.shape[1], \"\\n\")"
   ]
  },
  {
   "cell_type": "code",
   "execution_count": null,
   "metadata": {},
   "outputs": [],
   "source": [
    "data_without_ons_location = collision.filter(\n",
    "    pl.col(\"latitude\").is_null(),\n",
    "    pl.col(\"longitude\").is_null(),\n",
    "    pl.col(\"local_authority_ons_district\").is_null(),\n",
    ")\n",
    "\n",
    "print(\n",
    "    \"rows without latitude, longitude or ONS local authority location after deriving:\",\n",
    "    f\"{data_without_ons_location.shape[0]:,}\",\n",
    "    f\"{(data_without_ons_location.shape[0] / collision.shape[0]):.2%}\",\n",
    "    sep=\"\\n\",\n",
    ")\n",
    "\n",
    "data_without_any_location = collision.filter(\n",
    "    pl.col(\"latitude\").is_null(),\n",
    "    pl.col(\"longitude\").is_null(),\n",
    "    pl.col(\"local_authority_ons_district\").is_null(),\n",
    "    pl.col(\"local_authority_district\").is_null(),\n",
    ")\n",
    "\n",
    "print(\n",
    "    \"rows without latitude, longitude or ONS local authority or old local authority location after deriving:\",\n",
    "    f\"{data_without_any_location.shape[0]:,}\",\n",
    "    f\"{(data_without_any_location.shape[0] / collision.shape[0]):.2%}\",\n",
    "    sep=\"\\n\",\n",
    ")"
   ]
  },
  {
   "cell_type": "code",
   "execution_count": null,
   "metadata": {},
   "outputs": [],
   "source": [
    "px.bar(\n",
    "    (\n",
    "        data_without_ons_location.group_by(\n",
    "            [\n",
    "                pl.col(\"accident_year\").alias(\"accident_year_int\"),\n",
    "                pl.col(\"accident_year\").cast(pl.String),\n",
    "                pl.col(\"accident_severity\"),\n",
    "            ],\n",
    "        )\n",
    "        .agg(pl.col(\"accident_index\").count().alias(\"count\"))\n",
    "        .sort(\"accident_year_int\")\n",
    "    ),\n",
    "    x=\"accident_year\",\n",
    "    y=\"count\",\n",
    "    color=\"accident_severity\",\n",
    "    barmode=\"group\",\n",
    ")"
   ]
  },
  {
   "cell_type": "code",
   "execution_count": null,
   "metadata": {},
   "outputs": [],
   "source": []
  }
 ],
 "metadata": {
  "language_info": {
   "name": "python",
   "pygments_lexer": "ipython3"
  }
 },
 "nbformat": 4,
 "nbformat_minor": 2
}
