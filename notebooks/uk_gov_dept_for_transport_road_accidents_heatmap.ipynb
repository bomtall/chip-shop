{
 "cells": [
  {
   "cell_type": "code",
   "execution_count": null,
   "metadata": {},
   "outputs": [],
   "source": [
    "import folium\n",
    "import numpy as np\n",
    "from folium.plugins import HeatMap\n",
    "from scipy.stats import gaussian_kde\n",
    "import polars as pl\n",
    "import geopandas as gpd\n",
    "\n",
    "import fryer.data as data\n",
    "import fryer.map as map\n",
    "\n",
    "from shapely.geometry import Point"
   ]
  },
  {
   "cell_type": "code",
   "execution_count": null,
   "metadata": {},
   "outputs": [],
   "source": [
    "collision = data.uk_gov_dept_for_transport_road_accidents.read_collision()\n",
    "gdf = data.ons_local_authority_district_boundaries.read()"
   ]
  },
  {
   "cell_type": "code",
   "execution_count": null,
   "metadata": {},
   "outputs": [],
   "source": [
    "local_authority_ons_code = \"E09000003\""
   ]
  },
  {
   "cell_type": "code",
   "execution_count": null,
   "metadata": {},
   "outputs": [],
   "source": [
    "gdf.sample(1)"
   ]
  },
  {
   "cell_type": "code",
   "execution_count": null,
   "metadata": {},
   "outputs": [],
   "source": [
    "local_authority_df = (\n",
    "    collision.filter(\n",
    "        pl.col(\"local_authority_ons_district\") == local_authority_ons_code,\n",
    "        pl.col(\"latitude\").is_not_null(),\n",
    "        pl.col(\"longitude\").is_not_null(),\n",
    "    )\n",
    ").to_pandas()"
   ]
  },
  {
   "cell_type": "code",
   "execution_count": null,
   "metadata": {},
   "outputs": [],
   "source": [
    "from folium import FeatureGroup, CircleMarker\n",
    "\n",
    "# 1. Create a Folium map centered around the UK\n",
    "uk_map = map.create_map()\n",
    "\n",
    "# ----------------------------\n",
    "# 2. Add Local Authority Boundary with Transparent Fill and Bold Black Border\n",
    "# ----------------------------\n",
    "boundary_df = gdf[gdf[\"LAD24CD\"] == local_authority_ons_code]\n",
    "sim_geo = gpd.GeoSeries(boundary_df[\"geometry\"]).simplify(tolerance=0.001)\n",
    "geo_j = sim_geo.to_json()\n",
    "\n",
    "geo_j = folium.GeoJson(\n",
    "    data=geo_j,\n",
    "    style_function=lambda x: {\n",
    "        \"fillColor\": \"transparent\",  # Transparent fill\n",
    "        \"fillOpacity\": 0.0,  # Ensure fill is fully transparent\n",
    "        \"color\": \"black\",  # Bold black border\n",
    "        \"weight\": 3,  # Border thickness\n",
    "        \"opacity\": 1.0,  # Border opacity\n",
    "    },\n",
    ")\n",
    "folium.Popup(boundary_df[\"LAD24NM\"]).add_to(geo_j)\n",
    "geo_j.add_to(uk_map)\n",
    "\n",
    "# ----------------------------\n",
    "# 3. Extract coordinates for KDE\n",
    "# ----------------------------\n",
    "latitudes = local_authority_df[\"latitude\"]\n",
    "longitudes = local_authority_df[\"longitude\"]\n",
    "\n",
    "# Perform Kernel Density Estimation (KDE)\n",
    "kde = gaussian_kde([longitudes, latitudes], bw_method=\"silverman\")\n",
    "\n",
    "# Generate a grid of points for KDE\n",
    "n_points = 200  # Adjust for more resolution\n",
    "lon_min, lon_max = min(longitudes), max(longitudes)\n",
    "lat_min, lat_max = min(latitudes), max(latitudes)\n",
    "\n",
    "grid_lon = np.linspace(lon_min, lon_max, n_points)\n",
    "grid_lat = np.linspace(lat_min, lat_max, n_points)\n",
    "lon_grid, lat_grid = np.meshgrid(grid_lon, grid_lat)\n",
    "grid_points = np.vstack([lon_grid.flatten(), lat_grid.flatten()])\n",
    "\n",
    "# Calculate KDE values\n",
    "density_values = kde(grid_points)\n",
    "density_values = density_values.reshape(lon_grid.shape)\n",
    "density_values = density_values / np.max(density_values)  # Normalize\n",
    "\n",
    "# ----------------------------\n",
    "# 4. Clip KDE Grid Points to Local Authority Polygon\n",
    "# ----------------------------\n",
    "boundary_polygon = boundary_df.geometry.iloc[0]  # Extract the polygon geometry\n",
    "\n",
    "# Create a list of valid heatmap points\n",
    "heat_data = []\n",
    "for i in range(len(density_values.flatten())):\n",
    "    lat = lat_grid.flatten()[i]\n",
    "    lon = lon_grid.flatten()[i]\n",
    "    point = Point(lon, lat)\n",
    "    if boundary_polygon.contains(point):\n",
    "        intensity = density_values.flatten()[i]\n",
    "        heat_data.append([lat, lon, intensity])\n",
    "\n",
    "# Add Clipped HeatMap to the Folium Map\n",
    "HeatMap(heat_data, min_opacity=0.2, radius=25, blur=20, name=\"Accident Heatmap\").add_to(\n",
    "    uk_map\n",
    ")\n",
    "\n",
    "# ----------------------------\n",
    "# 5. Add Individual Accident Points as a Toggleable Layer\n",
    "# ----------------------------\n",
    "accident_points_layer = FeatureGroup(name=\"Accident Points\")\n",
    "\n",
    "for idx, row in local_authority_df.iterrows():\n",
    "    CircleMarker(\n",
    "        location=[row[\"latitude\"], row[\"longitude\"]],\n",
    "        radius=1,  # Adjust size for visibility\n",
    "        color=\"red\",\n",
    "        fill=True,\n",
    "        fill_opacity=0.8,\n",
    "        popup=folium.Popup(f\"Accident ID: {row['accident_index']}\", max_width=200),\n",
    "    ).add_to(accident_points_layer)\n",
    "\n",
    "# Add the accident points layer to the map\n",
    "accident_points_layer.add_to(uk_map)\n",
    "\n",
    "# ----------------------------\n",
    "# 6. Add Layer Control\n",
    "# ----------------------------\n",
    "folium.LayerControl().add_to(uk_map)"
   ]
  },
  {
   "cell_type": "code",
   "execution_count": null,
   "metadata": {},
   "outputs": [],
   "source": [
    "uk_map"
   ]
  },
  {
   "cell_type": "code",
   "execution_count": null,
   "metadata": {},
   "outputs": [],
   "source": []
  }
 ],
 "metadata": {
  "language_info": {
   "name": "python",
   "pygments_lexer": "ipython3"
  }
 },
 "nbformat": 4,
 "nbformat_minor": 2
}
