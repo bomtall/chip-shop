{
 "cells": [
  {
   "cell_type": "code",
   "execution_count": null,
   "metadata": {},
   "outputs": [],
   "source": [
    "import folium\n",
    "import polars as pl\n",
    "import geopandas as gpd\n",
    "\n",
    "import fryer.data\n",
    "import fryer.map as map\n",
    "\n",
    "pl.Config.set_tbl_rows(100)"
   ]
  },
  {
   "cell_type": "code",
   "execution_count": null,
   "metadata": {},
   "outputs": [],
   "source": [
    "collision = fryer.data.uk_gov_dept_for_transport_road_accident.read_collision()\n",
    "gdf = fryer.data.ons_local_authority_district_boundaries.read()\n",
    "\n",
    "print(\n",
    "    \"collision\",\n",
    "    f\"rows: {collision.shape[0]:,}\",\n",
    "    f\"columns: {collision.shape[1]}\",\n",
    "    sep=\"\\n\",\n",
    ")"
   ]
  },
  {
   "cell_type": "code",
   "execution_count": null,
   "metadata": {},
   "outputs": [],
   "source": [
    "collisions_count = (\n",
    "    collision.filter(pl.col(\"local_authority_ons_district\").is_not_null())\n",
    "    .group_by(\"local_authority_ons_district\")\n",
    "    .agg(\n",
    "        [\n",
    "            pl.col(\"accident_index\").count().alias(\"accidents\"),\n",
    "            pl.col(\"number_of_casualties\").sum().alias(\"casualties\"),\n",
    "            pl.col(\"number_of_vehicles\").sum().alias(\"vehicles\"),\n",
    "        ]\n",
    "    )\n",
    ")\n",
    "\n",
    "gdf2 = gdf.merge(\n",
    "    collisions_count.to_pandas(),\n",
    "    left_on=\"LAD24CD\",\n",
    "    right_on=\"local_authority_ons_district\",\n",
    "    how=\"left\",\n",
    ")\n",
    "\n",
    "gdf2[\"geometry\"] = gpd.GeoSeries(gdf2[\"geometry\"]).simplify(tolerance=0.001)\n",
    "\n",
    "\n",
    "uk_map = map.create()\n",
    "colours = [\"Reds\", \"Blues\", \"Greens\"]\n",
    "\n",
    "for index, col in enumerate([\"accidents\", \"casualties\", \"vehicles\"]):\n",
    "    cp = folium.Choropleth(\n",
    "        geo_data=gdf2,\n",
    "        name=col,\n",
    "        data=gdf2,\n",
    "        columns=[\"LAD24CD\", col],\n",
    "        key_on=\"feature.properties.LAD24CD\",\n",
    "        fill_color=colours[index],\n",
    "        bins=6,\n",
    "        fill_opacity=0.6,\n",
    "        line_opacity=0.4,\n",
    "        smooth_factor=0,\n",
    "        # use_jenks=True,\n",
    "        overlay=True,\n",
    "        highlight=True,\n",
    "    ).add_to(uk_map)\n",
    "\n",
    "    folium.GeoJsonTooltip([\"LAD24NM\", \"LAD24CD\", col], localize=True).add_to(cp.geojson)\n",
    "\n",
    "folium.LayerControl().add_to(uk_map)"
   ]
  },
  {
   "cell_type": "code",
   "execution_count": null,
   "metadata": {},
   "outputs": [],
   "source": [
    "uk_map"
   ]
  },
  {
   "cell_type": "code",
   "execution_count": null,
   "metadata": {},
   "outputs": [],
   "source": [
    "# uk_map.save(\"uk_map.html\")"
   ]
  }
 ],
 "metadata": {
  "language_info": {
   "name": "python",
   "pygments_lexer": "ipython3"
  }
 },
 "nbformat": 4,
 "nbformat_minor": 2
}
