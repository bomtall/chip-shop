{
 "cells": [
  {
   "cell_type": "code",
   "execution_count": null,
   "metadata": {},
   "outputs": [],
   "source": [
    "import plotly.express as px\n",
    "import polars as pl\n",
    "\n",
    "from fryer import all as fryer"
   ]
  },
  {
   "cell_type": "code",
   "execution_count": null,
   "metadata": {},
   "outputs": [],
   "source": [
    "df = fryer.data.uk_gov_hm_land_registry_price_paid.read().with_columns(\n",
    "    pl.col(\"date\").dt.month_start().alias(\"month\"),\n",
    "    pl.col(\"date\").dt.strftime(\"%Y-01-01\").str.to_date(\"%Y-%m-%d\").alias(\"year\"),\n",
    ")"
   ]
  },
  {
   "cell_type": "code",
   "execution_count": null,
   "metadata": {},
   "outputs": [],
   "source": [
    "df.collect_schema().names()"
   ]
  },
  {
   "cell_type": "code",
   "execution_count": null,
   "metadata": {},
   "outputs": [],
   "source": [
    "for col in (\"year\", \"month\"):\n",
    "    df_len = df.group_by(col).len().collect()\n",
    "    display(df_len.pipe(px.bar, x=col, y=\"len\", title=col))"
   ]
  },
  {
   "cell_type": "code",
   "execution_count": null,
   "metadata": {},
   "outputs": [],
   "source": [
    "column_x = \"year\"\n",
    "for col in (\n",
    "    \"propertyType\",\n",
    "    \"oldOrNew\",\n",
    "    \"tenureDuration\",\n",
    "    \"ppdCategoryType\",\n",
    "    \"recordStatusMonthlyFileOnly\",\n",
    "):\n",
    "    df_len = df.group_by([column_x, col]).len().collect()\n",
    "    display(\n",
    "        df_len.pipe(\n",
    "            px.bar,\n",
    "            x=column_x,\n",
    "            y=\"len\",\n",
    "            color=col,\n",
    "            title=col,\n",
    "            category_orders={\n",
    "                col: df_len.sort(by=\"len\", descending=True)[col].to_list()\n",
    "            },\n",
    "        )\n",
    "    )"
   ]
  },
  {
   "cell_type": "code",
   "execution_count": null,
   "metadata": {},
   "outputs": [],
   "source": [
    "column_group_by = \"month\"\n",
    "column_value = \"price\"\n",
    "quantiles = [0, 0.1, 0.25, 0.5, 0.75, 0.9, 1.0]\n",
    "columns_quantiles = [f\"{column_value}_q{quantile:.2f}\" for quantile in quantiles]\n",
    "\n",
    "(\n",
    "    df.group_by(column_group_by)\n",
    "    .agg(\n",
    "        *[\n",
    "            pl.col(column_value).quantile(quantile).alias(column_quantile)\n",
    "            for quantile, column_quantile in zip(quantiles, columns_quantiles)\n",
    "        ]\n",
    "    )\n",
    "    .sort(by=column_group_by)\n",
    "    .collect()\n",
    "    .pipe(px.line, x=column_group_by, y=columns_quantiles, log_y=True)\n",
    ")"
   ]
  }
 ],
 "metadata": {
  "language_info": {
   "name": "python",
   "pygments_lexer": "ipython3"
  }
 },
 "nbformat": 4,
 "nbformat_minor": 2
}
